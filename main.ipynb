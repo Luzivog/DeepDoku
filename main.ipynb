{
 "cells": [
  {
   "attachments": {},
   "cell_type": "markdown",
   "metadata": {},
   "source": [
    "### Libs"
   ]
  },
  {
   "cell_type": "code",
   "execution_count": 15,
   "metadata": {},
   "outputs": [],
   "source": [
    "import pandas as pd\n",
    "import numpy as np\n",
    "from tqdm import tqdm\n",
    "from sklearn.model_selection import train_test_split\n",
    "from copy import copy\n",
    "import keras"
   ]
  },
  {
   "attachments": {},
   "cell_type": "markdown",
   "metadata": {},
   "source": [
    "### Load data"
   ]
  },
  {
   "cell_type": "code",
   "execution_count": 16,
   "metadata": {},
   "outputs": [],
   "source": [
    "data = pd.read_csv('sudoku.csv')\n",
    "quizzes, solutions = data[\"quizzes\"], data[\"solutions\"]"
   ]
  },
  {
   "attachments": {},
   "cell_type": "markdown",
   "metadata": {},
   "source": [
    "### Data preprocessing"
   ]
  },
  {
   "cell_type": "code",
   "execution_count": 77,
   "metadata": {},
   "outputs": [
    {
     "name": "stderr",
     "output_type": "stream",
     "text": [
      "Formatting data: 100%|██████████| 1000000/1000000 [00:33<00:00, 29469.31it/s]\n"
     ]
    },
    {
     "name": "stdout",
     "output_type": "stream",
     "text": [
      "Sudokus shape: (1000000, 9, 9, 1)\n",
      "Solutions shape: (1000000, 81, 1)\n"
     ]
    }
   ],
   "source": [
    "sudoku_unsolved, sudoku_solved = [], []\n",
    "for i in tqdm(range(len(quizzes)), desc=\"Formatting data\"):\n",
    "    sudoku_unsolved.append(np.array([int(x)/9.0-.5 for x in quizzes[i]]).reshape(9,9,1))\n",
    "    sudoku_solved.append(np.array([int(x)-1 for x in solutions[i]]).reshape(81,1))\n",
    "    \n",
    "sudoku_unsolved, sudoku_solved = np.array(sudoku_unsolved), np.array(sudoku_solved)\n",
    "print(\"Sudokus shape:\", sudoku_unsolved.shape)\n",
    "print(\"Solutions shape:\", sudoku_solved.shape)"
   ]
  },
  {
   "cell_type": "code",
   "execution_count": 18,
   "metadata": {},
   "outputs": [],
   "source": [
    "x_train, x_test, y_train, y_test = train_test_split(sudoku_unsolved, sudoku_solved, test_size=0.0001)"
   ]
  },
  {
   "attachments": {},
   "cell_type": "markdown",
   "metadata": {},
   "source": [
    "### Model"
   ]
  },
  {
   "cell_type": "code",
   "execution_count": 19,
   "metadata": {},
   "outputs": [
    {
     "name": "stdout",
     "output_type": "stream",
     "text": [
      "Model: \"sequential\"\n",
      "_________________________________________________________________\n",
      " Layer (type)                Output Shape              Param #   \n",
      "=================================================================\n",
      " conv2d (Conv2D)             (None, 9, 9, 64)          640       \n",
      "                                                                 \n",
      " batch_normalization (BatchN  (None, 9, 9, 64)         256       \n",
      " ormalization)                                                   \n",
      "                                                                 \n",
      " conv2d_1 (Conv2D)           (None, 9, 9, 64)          36928     \n",
      "                                                                 \n",
      " batch_normalization_1 (Batc  (None, 9, 9, 64)         256       \n",
      " hNormalization)                                                 \n",
      "                                                                 \n",
      " conv2d_2 (Conv2D)           (None, 9, 9, 128)         8320      \n",
      "                                                                 \n",
      " flatten (Flatten)           (None, 10368)             0         \n",
      "                                                                 \n",
      " dense (Dense)               (None, 729)               7559001   \n",
      "                                                                 \n",
      " reshape (Reshape)           (None, 81, 9)             0         \n",
      "                                                                 \n",
      " activation (Activation)     (None, 81, 9)             0         \n",
      "                                                                 \n",
      "=================================================================\n",
      "Total params: 7,605,401\n",
      "Trainable params: 7,605,145\n",
      "Non-trainable params: 256\n",
      "_________________________________________________________________\n"
     ]
    }
   ],
   "source": [
    "model = keras.models.Sequential()\n",
    "\n",
    "model.add(keras.layers.Conv2D(64, kernel_size=(3,3), activation='relu', padding='same', input_shape=(9,9,1)))\n",
    "model.add(keras.layers.BatchNormalization())\n",
    "model.add(keras.layers.Conv2D(64, kernel_size=(3,3), activation='relu', padding='same'))\n",
    "model.add(keras.layers.BatchNormalization())\n",
    "model.add(keras.layers.Conv2D(128, kernel_size=(1,1), activation='relu', padding='same'))\n",
    "\n",
    "model.add(keras.layers.Flatten())\n",
    "model.add(keras.layers.Dense(81*9))\n",
    "model.add(keras.layers.Reshape((-1, 9)))\n",
    "model.add(keras.layers.Activation('softmax'))\n",
    "\n",
    "model.summary()"
   ]
  },
  {
   "attachments": {},
   "cell_type": "markdown",
   "metadata": {},
   "source": [
    "### Train model"
   ]
  },
  {
   "cell_type": "code",
   "execution_count": 20,
   "metadata": {},
   "outputs": [
    {
     "name": "stdout",
     "output_type": "stream",
     "text": [
      "Epoch 1/2\n",
      "31247/31247 [==============================] - 1235s 40ms/step - loss: 0.4350\n",
      "Epoch 2/2\n",
      "31247/31247 [==============================] - 1137s 36ms/step - loss: 0.3580\n",
      "Model saved\n"
     ]
    }
   ],
   "source": [
    "optimizer = keras.optimizers.Adam(learning_rate=0.001)\n",
    "model.compile(loss='sparse_categorical_crossentropy', optimizer=optimizer)\n",
    "\n",
    "model.fit(x_train, y_train, batch_size=32, epochs=2)\n",
    "\n",
    "# Saving model to avoid retraining it each time\n",
    "model.save('saved_models/model.h5')\n",
    "print(\"Model saved\")"
   ]
  },
  {
   "attachments": {},
   "cell_type": "markdown",
   "metadata": {},
   "source": [
    "### Or load pretrained model"
   ]
  },
  {
   "cell_type": "code",
   "execution_count": 21,
   "metadata": {},
   "outputs": [],
   "source": [
    "model = keras.models.load_model('./saved_models/model.h5')"
   ]
  },
  {
   "attachments": {},
   "cell_type": "markdown",
   "metadata": {},
   "source": [
    "### Test accuracy"
   ]
  },
  {
   "cell_type": "code",
   "execution_count": 32,
   "metadata": {},
   "outputs": [
    {
     "name": "stdout",
     "output_type": "stream",
     "text": [
      "Testing model...\n",
      "4/4 [==============================] - 0s 28ms/step\n"
     ]
    },
    {
     "name": "stderr",
     "output_type": "stream",
     "text": [
      "Calculating accuracy: 100%|██████████| 100/100 [00:00<00:00, 28393.61it/s]"
     ]
    },
    {
     "name": "stdout",
     "output_type": "stream",
     "text": [
      "Total puzzle accuracy: 0.00%\n",
      "Empty box accuracy: 69.19%\n",
      "Global box accuracy: 82.12%\n"
     ]
    },
    {
     "name": "stderr",
     "output_type": "stream",
     "text": [
      "\n"
     ]
    }
   ],
   "source": [
    "print(\"Testing model...\")\n",
    "predictions = model.predict(x_test)\n",
    "\n",
    "total_correct_box = 0\n",
    "total_correct_emptyBox = 0\n",
    "total_zero_boxes = 0\n",
    "total_correct_puzzles = 0\n",
    "\n",
    "for i in tqdm(range(len(predictions)), desc=\"Calculating accuracy\"):\n",
    "    formatted_pred = (np.argmax(predictions[i], axis=1)+1).reshape(81)\n",
    "    formatted_solution = (y_test[i]+1).reshape(81)\n",
    "    correct_boxes = sum(formatted_pred == formatted_solution)\n",
    "    puzzle_zero_count = np.count_nonzero((x_test[0].reshape(81)+.5)*9 == 0)\n",
    "    \n",
    "    total_correct_box += correct_boxes\n",
    "    total_correct_emptyBox += correct_boxes-(81-puzzle_zero_count)\n",
    "    total_zero_boxes += puzzle_zero_count\n",
    "    total_correct_puzzles += correct_boxes == 81\n",
    "\n",
    "print(f\"Total puzzle accuracy: {100*total_correct_puzzles/len(predictions):.2f}%\")\n",
    "print(f\"Empty box accuracy: {100*total_correct_emptyBox/total_zero_boxes:.2f}%\")\n",
    "print(f\"Global box accuracy: {100*total_correct_box/(len(predictions)*81):.2f}%\")"
   ]
  },
  {
   "attachments": {},
   "cell_type": "markdown",
   "metadata": {},
   "source": [
    "### Solve sudokus box by box"
   ]
  },
  {
   "cell_type": "code",
   "execution_count": 23,
   "metadata": {},
   "outputs": [],
   "source": [
    "norm = lambda x: x/9.0-.5\n",
    "denorm = lambda x: (x+.5)*9.0\n",
    "\n",
    "def get_next_step(sudoku, confidence):\n",
    "    sudoku = sudoku.reshape(9,9,1)\n",
    "    preds = model.predict(np.array([sudoku,]), verbose=0).reshape(81,9)\n",
    "    max_index, max_prob = -1, -1\n",
    "    for i, val in enumerate(denorm(sudoku).reshape(81)):\n",
    "        if val != 0: continue\n",
    "        max_prob_index = np.argmax(preds[i])\n",
    "        max_prob_value = preds[i][max_prob_index]\n",
    "        if (max_prob_value>max_prob):\n",
    "            max_index, max_prob = max_prob_index+i*9, max_prob_value\n",
    "            \n",
    "    if max_prob == -1: return sudoku.reshape(9,9), -1, confidence\n",
    "    pos, val = int(max_index//9), max_index%9+1\n",
    "    sudoku.reshape(81)[pos] = norm(val)\n",
    "    return sudoku.reshape(9,9), max_prob, confidence*max_prob\n",
    "    \n",
    "    \n",
    "def solve_sudoku(sudoku):    \n",
    "    sudoku, prob, confidence = copy(sudoku).reshape(9,9), 0, 1\n",
    "    while prob != -1:\n",
    "        sudoku, prob, confidence = get_next_step(sudoku, confidence)\n",
    "    return denorm(sudoku), confidence"
   ]
  },
  {
   "attachments": {},
   "cell_type": "markdown",
   "metadata": {},
   "source": [
    "### Check sudoku validity"
   ]
  },
  {
   "cell_type": "code",
   "execution_count": 71,
   "metadata": {},
   "outputs": [],
   "source": [
    "def sudoku_to_int(sudoku):\n",
    "    return [[int(x) for x in row] for row in sudoku]\n",
    "\n",
    "def is_valid_sudoku(sudoku):\n",
    "    \n",
    "    sudoku = sudoku_to_int(sudoku)\n",
    "    \n",
    "    # Row check\n",
    "    if sum([len(set(row)) == 9 for row in sudoku]) != 9:\n",
    "        return False\n",
    "    \n",
    "    # Column check\n",
    "    if sum([len(set([row[i] for row in sudoku])) == 9 for i in range(9)]) != 9:\n",
    "        return False\n",
    "        \n",
    "    # Cell check\n",
    "    for i in range(3):\n",
    "        for j in range(0,9,3):\n",
    "            cell = []\n",
    "            for k in range(i*3,(i+1)*3):\n",
    "                cell += sudoku[k][j:j+3]\n",
    "            if len(set(cell)) != 9:\n",
    "                return False\n",
    "            \n",
    "    return True"
   ]
  },
  {
   "attachments": {},
   "cell_type": "markdown",
   "metadata": {},
   "source": [
    "### Testing new accuraty with this method"
   ]
  },
  {
   "cell_type": "code",
   "execution_count": 37,
   "metadata": {},
   "outputs": [
    {
     "name": "stdout",
     "output_type": "stream",
     "text": [
      "Calculating accuracy...\n",
      "Model accuracy: 100.0%\n",
      "Average confidence: 97.80%\n"
     ]
    }
   ],
   "source": [
    "print(\"Calculating accuracy...\")\n",
    "n_correct, total_confidence = 0, 0\n",
    "for i in range(len(x_test)):\n",
    "    solved_sudoku, confidence = solve_sudoku(x_test[0])\n",
    "    total_confidence += confidence\n",
    "    if np.sum(solved_sudoku == y_test[0].reshape(9,9)+1) == 81:\n",
    "        n_correct+=1\n",
    "        \n",
    "print(f\"Model accuracy: {100*n_correct/len(x_test)}%\\nAverage confidence: {100*total_confidence/len(x_test):.2f}%\")"
   ]
  },
  {
   "attachments": {},
   "cell_type": "markdown",
   "metadata": {},
   "source": [
    "### Sudoku example (medium difficulty)"
   ]
  },
  {
   "cell_type": "code",
   "execution_count": 78,
   "metadata": {},
   "outputs": [
    {
     "name": "stdout",
     "output_type": "stream",
     "text": [
      "[[3. 9. 8. 4. 7. 1. 6. 2. 5.]\n",
      " [1. 2. 6. 3. 8. 5. 4. 7. 9.]\n",
      " [7. 4. 5. 6. 2. 9. 8. 3. 1.]\n",
      " [6. 5. 7. 8. 1. 3. 9. 4. 2.]\n",
      " [9. 1. 4. 7. 6. 2. 5. 8. 3.]\n",
      " [8. 3. 2. 9. 5. 4. 1. 6. 7.]\n",
      " [4. 8. 9. 5. 3. 7. 2. 1. 6.]\n",
      " [2. 6. 3. 1. 9. 8. 7. 5. 4.]\n",
      " [5. 7. 1. 2. 4. 6. 3. 9. 8.]] \n",
      "Model confidence: 97.46%\n"
     ]
    }
   ],
   "source": [
    "sudoku = norm(np.array([\n",
    "    [3,0,0,4,0,1,6,2,0],\n",
    "    [1,0,0,0,8,0,4,0,0],\n",
    "    [0,0,5,0,2,0,8,3,0],\n",
    "    [0,5,7,8,0,0,0,0,0],\n",
    "    [0,0,0,7,0,0,5,0,3],\n",
    "    [0,0,2,9,0,4,0,0,7],\n",
    "    [4,8,0,5,3,0,0,1,0],\n",
    "    [2,0,3,0,9,0,0,0,0],\n",
    "    [0,7,0,0,0,6,0,9,0]\n",
    "])).reshape(9,9,1)\n",
    "\n",
    "solved, confidence = solve_sudoku(sudoku)\n",
    "print(solved, f\"\\nModel confidence: {confidence*100:.2f}%\")"
   ]
  },
  {
   "attachments": {},
   "cell_type": "markdown",
   "metadata": {},
   "source": [
    "### Sudoku example (Classic puzzle from the 2017 World Sudoku Grand Prix final recommended by Richard Stolk)\n",
    "For more details click [here](https://gp.worldpuzzle.org/content/final-results-5), it is the sudoku #4 of the Sudoku Playoffs."
   ]
  },
  {
   "cell_type": "code",
   "execution_count": 75,
   "metadata": {},
   "outputs": [
    {
     "name": "stdout",
     "output_type": "stream",
     "text": [
      "[[1. 5. 9. 2. 7. 6. 3. 4. 8.]\n",
      " [8. 3. 4. 9. 5. 1. 6. 7. 2.]\n",
      " [6. 7. 2. 4. 3. 8. 9. 5. 1.]\n",
      " [7. 2. 6. 8. 4. 3. 5. 1. 9.]\n",
      " [5. 9. 1. 6. 2. 7. 4. 8. 3.]\n",
      " [3. 4. 8. 1. 9. 5. 7. 2. 6.]\n",
      " [4. 8. 3. 5. 1. 9. 2. 6. 7.]\n",
      " [2. 6. 7. 3. 8. 4. 1. 9. 5.]\n",
      " [9. 1. 5. 7. 6. 2. 8. 3. 4.]] \n",
      "\n",
      "Model confidence: 14.88%\n",
      "Valid: True\n"
     ]
    }
   ],
   "source": [
    "sudoku = norm(np.array([\n",
    "    [0,0,0,0,0,6,0,4,0],\n",
    "    [8,0,0,0,5,0,0,0,2],\n",
    "    [0,7,0,4,0,0,9,0,0],\n",
    "    [0,0,6,0,0,3,0,1,0],\n",
    "    [5,0,0,0,0,0,0,0,3],\n",
    "    [0,4,0,1,0,0,7,0,0],\n",
    "    [0,0,3,0,0,9,0,6,0],\n",
    "    [2,0,0,0,8,0,0,0,5],\n",
    "    [0,1,0,7,0,0,0,0,0]\n",
    "])).reshape(9,9,1)\n",
    "\n",
    "solved, confidence = solve_sudoku(sudoku)\n",
    "print(solved, f\"\\n\\nModel confidence: {confidence*100:.2f}%\")\n",
    "print(\"Valid:\", is_valid_sudoku(solved))"
   ]
  }
 ],
 "metadata": {
  "kernelspec": {
   "display_name": "Python 3",
   "language": "python",
   "name": "python3"
  },
  "language_info": {
   "codemirror_mode": {
    "name": "ipython",
    "version": 3
   },
   "file_extension": ".py",
   "mimetype": "text/x-python",
   "name": "python",
   "nbconvert_exporter": "python",
   "pygments_lexer": "ipython3",
   "version": "3.11.4"
  },
  "orig_nbformat": 4
 },
 "nbformat": 4,
 "nbformat_minor": 2
}
